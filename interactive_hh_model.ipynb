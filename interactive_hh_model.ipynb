{
 "cells": [
  {
   "cell_type": "markdown",
   "metadata": {},
   "source": [
    "# Interactive Python Notebook of Hodgekin-Huxley Model"
   ]
  },
  {
   "cell_type": "code",
   "execution_count": 1,
   "metadata": {},
   "outputs": [],
   "source": [
    "#%pip install ipywidgets\n",
    "import numpy as np\n",
    "import matplotlib.pyplot as plt\n",
    "import ipywidgets as widgets\n",
    "plt.style.use('ggplot')\n",
    "from scipy.integrate import odeint\n",
    "\n",
    "my_layout = widgets.Layout()"
   ]
  },
  {
   "cell_type": "code",
   "execution_count": 2,
   "metadata": {},
   "outputs": [],
   "source": [
    "def hodgkinHuxley(yy,t):\n",
    "\n",
    "\t#Name the variables\n",
    "\tV = yy[0]\n",
    "\tn = yy[1]\n",
    "\tm = yy[2]\n",
    "\th = yy[3]\n",
    "\t\n",
    "\t#Name the parameters\n",
    "\tC_m = 1.0\n",
    "\tV_K = -12.0\n",
    "\tV_Na = 115.0\n",
    "\tV_l = 10.613\n",
    "\tg_K = 36.0\n",
    "\tg_Na = 120.0\n",
    "\tg_l = 0.3\n",
    "\t#The injected current? ? ? ? \n",
    "\t# HH model\n",
    "\tGK = (g_K/C_m)*np.power(n, 4.0)\n",
    "\tGNa = (g_Na/C_m)*np.power(m, 3.0)*h\n",
    "\tGL = (g_l/C_m)\n",
    "\tV_dot = (I/C_m) - (GK*(V-V_K)) - (GNa*(V-V_Na)) - (GL*(V-V_l))\n",
    "\tn_dot = alpha_n(V) * (1-n) - beta_n(V) *n\n",
    "\tm_dot = alpha_m(V) * (1-m) - beta_m(V) *m\n",
    "\th_dot = alpha_h(V) * (1-h) - beta_h(V) *h\n",
    "\t\n",
    "\treturn [V_dot, n_dot, m_dot, h_dot]"
   ]
  },
  {
   "cell_type": "code",
   "execution_count": 3,
   "metadata": {},
   "outputs": [],
   "source": [
    "#Auxiliary quantities\t\n",
    "def alpha_n(V):\n",
    "    return (0.01*(10-V)) / (np.exp((10-V)/10) -1) \n",
    "\n",
    "def beta_n(V):\n",
    "    return 0.125 * np.exp(-V/80)\t\n",
    "\n",
    "def alpha_m(V):\n",
    "    return (0.1 *(25-V)) / (np.exp((25-V)/10) -1)\n",
    "\n",
    "def beta_m(V):\n",
    "    return 4 * np.exp(-V/18)\n",
    "\n",
    "def alpha_h(V):\n",
    "    return 0.07 * np.exp(-V/20)\n",
    "\n",
    "def beta_h(V):\n",
    "    return 1 / (np.exp((30-V)/10) +1) \n",
    "\n",
    "def n_inf(Vm=0.0):\n",
    "    return alpha_n(Vm) / (alpha_n(Vm) + beta_n(Vm))\n",
    "\n",
    "def m_inf(Vm=0.0):\n",
    "    return alpha_m(Vm) / (alpha_m(Vm) + beta_m(Vm))\n",
    "\n",
    "def h_inf(Vm=0.0):\n",
    "    return alpha_h(Vm) / (alpha_h(Vm) + beta_h(Vm))\n",
    "\n",
    "y0 = np.array([0.0, n_inf(), m_inf(), h_inf()])\n",
    "\n",
    "#Define time interval and spacing for the solutions\n",
    "t = np.arange(0,100,0.01)\n"
   ]
  },
  {
   "cell_type": "code",
   "execution_count": 4,
   "metadata": {},
   "outputs": [],
   "source": [
    "# @widgets.interact(\n",
    "#     I=widgets.FloatSlider(50., min=-20., max=150., step=1.,\n",
    "#                                layout=my_layout),\n",
    "#     V_Na=widgets.FloatSlider(50., min=-20., max=150., step=1.,\n",
    "#                                layout=my_layout),\n",
    "#     V_K=widgets.FloatSlider(50., min=-20., max=150., step=1.,\n",
    "#                                layout=my_layout),\n",
    "#     V_l=widgets.FloatSlider(50., min=-20., max=150., step=1.,\n",
    "#                                layout=my_layout),\n",
    "#     g_Na=widgets.FloatSlider(50., min=-20., max=150., step=1.,\n",
    "#                                layout=my_layout),\n",
    "#     g_K=widgets.FloatSlider(50., min=-20., max=150., step=1.,\n",
    "#                                layout=my_layout),\n",
    "#     g_l=widgets.FloatSlider(50., min=-20., max=150., step=1.,\n",
    "#                                layout=my_layout),\n",
    "\n",
    "# )\n",
    "# def HH_plot(V_Na, V_K, V_l, g_Na, g_K, g_l, I):\n",
    "#     plt.figure(figsize=(10, 5))\n",
    "#     plt.ylabel(\"Volts (mV)\")\n",
    "#     plt.xlabel(\"Time (msec)\")\n",
    "#     plt.suptitle(\"HH-model Dynamics\")\n",
    "#     #Pack the parameters in a single vector\n",
    "#     p = [C_m,V_Na,V_K,V_l,g_Na,g_K,g_l,I] \n",
    "#     #Call the integrator \n",
    "#     y = odeint(hodgkinHuxley, y0, t, args=(p,))\n",
    "#     plt.plot(t,y[:,0])\n"
   ]
  },
  {
   "cell_type": "code",
   "execution_count": 16,
   "metadata": {},
   "outputs": [
    {
     "data": {
      "image/png": "[encoded data removed]",
      "text/plain": [
       "<Figure size 720x360 with 1 Axes>"
      ]
     },
     "metadata": {},
     "output_type": "display_data"
    }
   ],
   "source": [
    "plt.figure(figsize=(10, 5))\n",
    "plt.ylabel(\"Volts (mV)\")\n",
    "plt.xlabel(\"Time (msec)\")\n",
    "plt.suptitle(\"HH-model Dynamics\")\n",
    "#Pack the parameters in a single vector\n",
    "#Call the integrator \n",
    "\n",
    "for I in np.around(np.arange(2.2, 2.3, 0.04), 3):\n",
    "    y = odeint(hodgkinHuxley, y0, t)\n",
    "    plt.plot(t,y[:,0], label = f\"external current = {I}\")\n",
    "    plt.legend()"
   ]
  }
 ],
 "metadata": {
  "interpreter": {
   "hash": "c819db0b61094783b121348d134d41c4e0450ebc7e72307b330662436e6d9290"
  },
  "kernelspec": {
   "display_name": "Python 3.9.4 64-bit",
   "language": "python",
   "name": "python3"
  },
  "language_info": {
   "codemirror_mode": {
    "name": "ipython",
    "version": 3
   },
   "file_extension": ".py",
   "mimetype": "text/x-python",
   "name": "python",
   "nbconvert_exporter": "python",
   "pygments_lexer": "ipython3",
   "version": "3.9.4"
  },
  "orig_nbformat": 4
 },
 "nbformat": 4,
 "nbformat_minor": 2
}
