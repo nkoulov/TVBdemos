{
 "cells": [
  {
   "cell_type": "markdown",
   "metadata": {},
   "source": [
    "# Interactive Python Notebook of Hodgekin-Huxley Model"
   ]
  },
  {
   "cell_type": "code",
   "execution_count": 1,
   "metadata": {},
   "outputs": [],
   "source": [
    "#%pip install ipywidgets\n",
    "import numpy as np\n",
    "import matplotlib.pyplot as plt\n",
    "import ipywidgets as widgets\n",
    "plt.style.use('ggplot')\n",
    "from scipy.integrate import odeint\n",
    "\n",
    "my_layout = widgets.Layout()"
   ]
  },
  {
   "cell_type": "code",
   "execution_count": 2,
   "metadata": {},
   "outputs": [],
   "source": [
    "def hodgkinHuxley(yy,t, p):\n",
    "\n",
    "\t#Name the variables\n",
    "\tV = yy[0]\n",
    "\tn = yy[1]\n",
    "\tm = yy[2]\n",
    "\th = yy[3]\n",
    "\t\n",
    "\t#Name the parameters\n",
    "\tC_m = p[0]\n",
    "\tV_Na = p[1]\n",
    "\tV_K = p[2]\n",
    "\tV_l = p[3]\n",
    "\tg_Na = p[4]\n",
    "\tg_K = p[5]\n",
    "\tg_l = p[6]\n",
    "\t\n",
    "\t#The injected current? ? ? ? \n",
    "\tI = p[7]\n",
    "\t\n",
    "\t#Auxiliary quantities\t\n",
    "\talpha_n = (0.01*(10-V)) / (np.exp((10-V)/10) -1) \n",
    "\tbeta_n = 0.125 * np.exp(-V/80)\t\n",
    "\talpha_m = (0.1 *(25-V)) / (np.exp((25-V)/10) -1) \n",
    "\tbeta_m  = 4 * np.exp(-V/18)\n",
    "\talpha_h = 0.07 * np.exp(-V/20)\n",
    "\tbeta_h = 1 / (np.exp((30-V)/10) +1) \n",
    "\t\n",
    "\t# HH model\n",
    "\n",
    "\tV_dot = (-g_K*n**4*(V-V_K) - g_Na*m**3*h*(V-V_Na) - g_l*(V-V_l) + I)/C_m\n",
    "\tn_dot = alpha_n * (1-n) - beta_n *n\n",
    "\tm_dot = alpha_m * (1-m) - beta_m *m\n",
    "\th_dot = alpha_h * (1-h) - beta_h *h\n",
    "\t\n",
    "\t\n",
    "\treturn [V_dot, n_dot, m_dot, h_dot]"
   ]
  },
  {
   "cell_type": "code",
   "execution_count": 5,
   "metadata": {},
   "outputs": [],
   "source": [
    "#Define initial conditions for the state variables\n",
    "y0 = [0.0,0.0,0.0,0.0]\n",
    "\n",
    "#Define time interval and spacing for the solutions\n",
    "t = np.arange(0,100,0.01)\n",
    "\n",
    "#Define fixed parameters pp. 520 (HH1952 paper)\n",
    "C_m = 1\n",
    "\n",
    "E_Na = 50.\n",
    "E_K = -77.\n",
    "E_l = -54.387\n",
    "RP = -65.\n",
    "V_Na = E_Na - RP\n",
    "V_K = E_K - RP\n",
    "V_l = E_l - RP\n",
    "g_Na = 120\n",
    "g_K = 36\n",
    "g_l = 0.3\n",
    "#no current? \n",
    "# I = -20"
   ]
  },
  {
   "cell_type": "code",
   "execution_count": 6,
   "metadata": {},
   "outputs": [
    {
     "data": {
      "application/vnd.jupyter.widget-view+json": {
       "model_id": "7d3a1dbe0fd745e89318c79b7eb56e17",
       "version_major": 2,
       "version_minor": 0
      },
      "text/plain": [
       "interactive(children=(FloatSlider(value=50.0, description='I', max=150.0, min=-20.0, step=1.0), Output()), _do…"
      ]
     },
     "metadata": {},
     "output_type": "display_data"
    }
   ],
   "source": [
    "@widgets.interact(\n",
    "    I=widgets.FloatSlider(50., min=-20., max=150., step=1.,\n",
    "                               layout=my_layout),\n",
    "                               \n",
    ")\n",
    "def HH_plot(I):\n",
    "    plt.figure(figsize=(10, 5))\n",
    "    plt.ylabel(\"Volts (mV)\")\n",
    "    plt.xlabel(\"Time (msec)\")\n",
    "    plt.suptitle(\"HH-model Dynamics\")\n",
    "    #Pack the parameters in a single vector\n",
    "    p = [C_m,V_Na, V_K,V_l,g_Na,g_K,g_l,I] \n",
    "    #Call the integrator \n",
    "    y = odeint(hodgkinHuxley, y0, t, args=(p,)) \n",
    "    plt.plot(t,y[:,0])"
   ]
  }
 ],
 "metadata": {
  "interpreter": {
   "hash": "c819db0b61094783b121348d134d41c4e0450ebc7e72307b330662436e6d9290"
  },
  "kernelspec": {
   "display_name": "Python 3.9.4 64-bit",
   "language": "python",
   "name": "python3"
  },
  "language_info": {
   "codemirror_mode": {
    "name": "ipython",
    "version": 3
   },
   "file_extension": ".py",
   "mimetype": "text/x-python",
   "name": "python",
   "nbconvert_exporter": "python",
   "pygments_lexer": "ipython3",
   "version": "3.9.4"
  },
  "orig_nbformat": 4
 },
 "nbformat": 4,
 "nbformat_minor": 2
}
