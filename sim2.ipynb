{
  "cells": [
    {
      "cell_type": "markdown",
      "metadata": {
        "colab_type": "text",
        "id": "view-in-github"
      },
      "source": [
        "<a href=\"https://colab.research.google.com/github/yilewang/TVB_Demo/blob/master/sim2.ipynb\" target=\"_parent\"><img src=\"https://colab.research.google.com/assets/colab-badge.svg\" alt=\"Open In Colab\"/></a>"
      ]
    },
    {
      "cell_type": "code",
      "execution_count": 1,
      "metadata": {
        "id": "mVU7XDtkauQX"
      },
      "outputs": [],
      "source": [
        "%%capture\n",
        "%pip install tvb-library\n",
        "%pylab inline\n",
        "import os\n",
        "from tvb.simulator.lab import *\n",
        "LOG = get_logger('demo')\n",
        "import pickle as cPickle\n",
        "from tvb.simulator.models.stefanescu_jirsa import ReducedSetHindmarshRose\n",
        "import matplotlib.pyplot as plt\n",
        "import numpy as np\n"
      ]
    },
    {
      "cell_type": "code",
      "execution_count": 2,
      "metadata": {
        "id": "sK0pbXWrcy1C"
      },
      "outputs": [],
      "source": [
        "%%capture\n",
        "path = \"C:/Users/wayne/tvb/tvbdemos/tvb_slurm/0306A.zip\""
      ]
    },
    {
      "cell_type": "code",
      "execution_count": 3,
      "metadata": {
        "colab": {
          "base_uri": "https://localhost:8080/",
          "height": 345
        },
        "id": "9YcaFRWAbKs7",
        "outputId": "34938e4a-eafc-4e44-91b9-006d91ce8d83"
      },
      "outputs": [
        {
          "ename": "SyntaxError",
          "evalue": "closing parenthesis ')' does not match opening parenthesis '[' (<ipython-input-3-617ed1920188>, line 6)",
          "output_type": "error",
          "traceback": [
            "\u001b[1;36m  File \u001b[1;32m\"<ipython-input-3-617ed1920188>\"\u001b[1;36m, line \u001b[1;32m6\u001b[0m\n\u001b[1;33m    white_matter_coupling = coupling.Linear(a=np.array([0.04))\u001b[0m\n\u001b[1;37m                                                            ^\u001b[0m\n\u001b[1;31mSyntaxError\u001b[0m\u001b[1;31m:\u001b[0m closing parenthesis ')' does not match opening parenthesis '['\n"
          ]
        }
      ],
      "source": [
        "speed=10.\n",
        "oscillator = models.ReducedSetHindmarshRose()\n",
        "white_matter = connectivity.Connectivity.from_file(path)\n",
        "# oscilator.variables_of_interest = [\"xi\"]\n",
        "white_matter.speed = np.array([speed])\n",
        "white_matter_coupling = coupling.Linear(a=np.array([0.04]))\n",
        "heunint = integrators.HeunStochastic(dt=0.01220703125, noise=noise.Additive(nsig=np.array([0.00001]), ntau=0.0, random_stream=np.random.RandomState(seed=42)))\n",
        "# Initialise some Monitors with period in physical time\n",
        "mon_raw = monitors.Raw()\n",
        "mon_tavg = monitors.TemporalAverage(period=1.)\n",
        "what_to_watch = (mon_tavg, mon_raw)\n",
        "# Initialise a Simulator -- Model, Connectivity, Integrator, and Monitors.\n",
        "sim = simulator.Simulator(model=oscillator, connectivity=white_matter,\n",
        "                        coupling=white_matter_coupling,\n",
        "                        integrator=heunint, monitors=what_to_watch, simulation_length=1e3)\n",
        "sim.configure()"
      ]
    },
    {
      "cell_type": "code",
      "execution_count": null,
      "metadata": {
        "id": "giKnX5ctbM6s"
      },
      "outputs": [],
      "source": [
        "(tavg_time, tavg_data), (raw_time, raw_data) = sim.run()"
      ]
    },
    {
      "cell_type": "code",
      "execution_count": null,
      "metadata": {
        "colab": {
          "base_uri": "https://localhost:8080/",
          "height": 350
        },
        "id": "dN0cU59fbQG6",
        "outputId": "0e3eb0ab-d26a-444f-c737-1e7b49658d24"
      },
      "outputs": [],
      "source": [
        "plt.figure(figsize=(10, 5))\n",
        "plt.plot(raw_time * 1e-3, raw_data[:, 0, :, 0], alpha=0.3)\n",
        "plt.title('Initial transient in RAW')\n",
        "plt.xlabel('Time (s)')\n",
        "plt.legend()\n",
        "plt.grid(True)\n",
        "plt.show()"
      ]
    }
  ],
  "metadata": {
    "colab": {
      "authorship_tag": "ABX9TyMjgern/Nff2whtrf3VXMhR",
      "include_colab_link": true,
      "name": "sim2.ipynb",
      "provenance": []
    },
    "interpreter": {
      "hash": "8c455a4213ad22b1ac41aa28373b87a7df4d9832b20044a15be34a8260aa3e12"
    },
    "kernelspec": {
      "display_name": "Python 3.9.4 64-bit",
      "language": "python",
      "name": "python3"
    },
    "language_info": {
      "codemirror_mode": {
        "name": "ipython",
        "version": 3
      },
      "file_extension": ".py",
      "mimetype": "text/x-python",
      "name": "python",
      "nbconvert_exporter": "python",
      "pygments_lexer": "ipython3",
      "version": "3.9.4"
    }
  },
  "nbformat": 4,
  "nbformat_minor": 0
}
