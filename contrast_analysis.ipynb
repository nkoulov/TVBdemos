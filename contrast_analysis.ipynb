{
  "nbformat": 4,
  "nbformat_minor": 0,
  "metadata": {
    "colab": {
      "name": "contrast_analysis.ipynb",
      "provenance": [],
      "collapsed_sections": [],
      "authorship_tag": "ABX9TyNKJAuEbDNzAYocxdbvExjC",
      "include_colab_link": true
    },
    "kernelspec": {
      "name": "python3",
      "display_name": "Python 3"
    },
    "language_info": {
      "name": "python"
    }
  },
  "cells": [
    {
      "cell_type": "markdown",
      "metadata": {
        "id": "view-in-github",
        "colab_type": "text"
      },
      "source": [
        "<a href=\"https://colab.research.google.com/github/yilewang/TVB_Demo/blob/master/contrast_analysis.ipynb\" target=\"_parent\"><img src=\"https://colab.research.google.com/assets/colab-badge.svg\" alt=\"Open In Colab\"/></a>"
      ]
    },
    {
      "cell_type": "markdown",
      "metadata": {
        "id": "EmLjfLs7fEJh"
      },
      "source": [
        "This is a demo for contrast analysis. Contrast analysis is a statistical tool for trends analysis. The basic idea is based on ANOVA but it will allow research to customize contrast weights for different groups. This demo will only focus on posterior test of the contrast analysis (Scheffe's Test). The detailed info could be seen at Dr. Abdi's paper here: https://personal.utdallas.edu/~herve/abdi-contrasts2010-pretty.pdf"
      ]
    },
    {
      "cell_type": "code",
      "metadata": {
        "id": "35LLTz55e-Ky"
      },
      "source": [
        "# !/usr/bin/python\n",
        "\n",
        "import numpy as np\n",
        "import scipy.stats\n",
        "import pandas as pd\n",
        "\"\"\"\n",
        "The contrast analysis used for group comparison\n",
        "\n",
        "Author: Yile Wang\n",
        "Date: 08/17/2021\n",
        "\"\"\""
      ],
      "execution_count": null,
      "outputs": []
    },
    {
      "cell_type": "code",
      "metadata": {
        "id": "ZzQEHpvifeka"
      },
      "source": [
        "def contrast_analysis(datatable, contrast):\n",
        "    \"\"\" \n",
        "    Arg: \n",
        "        Pandas DataFrame with all the features and groups info\n",
        "    Return: \n",
        "        The contrast analysis results\n",
        "    \n",
        "    For this dataset, it should contain four groups, SNC, NC, MCI, AD;\n",
        "\n",
        "\n",
        "    \"\"\"\n",
        "\n",
        "    # the number of cases for each group\n",
        "    num_group = len(contrast)\n",
        "    num_cases = datatable.groupby(['groups']).count().iloc[:,0].to_numpy()\n",
        "\n",
        "    F_table = pd.DataFrame(columns=['features','F_value', 'P_value'])\n",
        "    mean_array = np.zeros(num_group)\n",
        "    var_array = np.zeros(num_group)\n",
        "\n",
        "    for col in datatable.columns[3:]:\n",
        "\n",
        "        # mean calculation\n",
        "        mean_array = datatable.groupby(['groups']).mean().loc[:,col].to_numpy()\n",
        "        meanNcontrast = np.dot(mean_array, contrast)\n",
        "        contrast2 = np.square(contrast)\n",
        "\n",
        "        # variance calculation\n",
        "        var_array = datatable.groupby(['groups']).var().loc[:,col].to_numpy()\n",
        "        denominator = sum(num_cases) - num_group\n",
        "        # degree of freedom of the each case\n",
        "        num_cases_df = num_cases -1\n",
        "\n",
        "        # compute the sum of squares & mean sum of squares \n",
        "        SSE = np.dot(var_array, num_cases_df)\n",
        "        MSE = SSE/denominator\n",
        "        tmp_ms_contrast = sum(contrast2/num_cases)\n",
        "\n",
        "        # compute the MS contrast\n",
        "        MS_contrast = (meanNcontrast**2) / tmp_ms_contrast\n",
        "        F_value = MS_contrast/MSE\n",
        "\n",
        "        # alpha = 0.05\n",
        "        F_critical = scipy.stats.f.ppf(q=1-0.05, dfn=1, dfd=denominator)\n",
        "\n",
        "        # for posterior contrast, using scheffe test\n",
        "        scheffe = F_critical * (num_group-1)\n",
        "        if F_value >= scheffe:\n",
        "            p = 0.05\n",
        "        else:\n",
        "            p = 'NA'\n",
        "\n",
        "        print(f\"The {col} contrast has F_value {F_value}, and the F_critical Scheffe's Test is {scheffe}\")\n",
        "        F_table = F_table.append({'features':col,'F_value':F_value, 'P_value':p}, ignore_index=True)\n",
        "    return F_table"
      ],
      "execution_count": null,
      "outputs": []
    },
    {
      "cell_type": "code",
      "metadata": {
        "id": "Ja24DPibgCsC"
      },
      "source": [
        "# The data set should be a pandas Datafram, and the groups info should be specificed as a column called 'groups'\n",
        "# e.x.\n",
        "\n",
        "G_table = pd.read_excel('your_file_path/G_table.xlsx')\n",
        "\n",
        "contrast = [-3, -1, 1, 3]\n",
        "contrast2 = [1,-1,-1,1]\n",
        "contrast3 = [-1,3,-3,1]\n",
        "F_table = contrast_analysis(G_table, contrast)\n",
        "print(F_table)"
      ],
      "execution_count": null,
      "outputs": []
    }
  ]
}