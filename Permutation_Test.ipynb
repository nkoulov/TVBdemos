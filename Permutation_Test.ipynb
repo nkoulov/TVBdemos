{
  "nbformat": 4,
  "nbformat_minor": 0,
  "metadata": {
    "colab": {
      "name": "Permutation_Test.ipynb",
      "provenance": [],
      "authorship_tag": "ABX9TyOxXvfA9lAVa/QXxOjRNpL0",
      "include_colab_link": true
    },
    "kernelspec": {
      "name": "python3",
      "display_name": "Python 3"
    },
    "language_info": {
      "name": "python"
    }
  },
  "cells": [
    {
      "cell_type": "markdown",
      "metadata": {
        "id": "view-in-github",
        "colab_type": "text"
      },
      "source": [
        "<a href=\"https://colab.research.google.com/github/yilewang/TVB_Demo/blob/master/Permutation_Test.ipynb\" target=\"_parent\"><img src=\"https://colab.research.google.com/assets/colab-badge.svg\" alt=\"Open In Colab\"/></a>"
      ]
    },
    {
      "cell_type": "markdown",
      "metadata": {
        "id": "6_VKePb24swz"
      },
      "source": [
        "This is a demo for permutation test"
      ]
    },
    {
      "cell_type": "code",
      "metadata": {
        "id": "dbR7Z1Ra4wAs"
      },
      "source": [
        "#!/usr/bin/python\n",
        "\n",
        "import numpy as np\n",
        "import matplotlib.pyplot as plt\n",
        "import seaborn as sns\n",
        "\"\"\"\n",
        "This is a permutation test python script\n",
        "Author: Yile Wang\n",
        "Date: 07/11/2021\n",
        "\"\"\"\n",
        "\n",
        "\n",
        "def PermutationTest(x,y,iteration, visualization = False):\n",
        "    \"\"\"\n",
        "    Args:   \n",
        "        x: data list1 1-d array\n",
        "        y: data list2 1-d array\n",
        "        iteration: iteration number for the test\n",
        "        visualization (boolean): the default value is False. If it is True, the permutation histgram will be generated\n",
        "    Returns:\n",
        "        p-value of the permutation test\n",
        "    \"\"\"\n",
        "    # transfer data to array format\n",
        "    x = np.array(x)\n",
        "    y = np.array(y)\n",
        "    np.hstack((x,y))\n",
        "    orig_mean = abs(np.mean(x) - np.mean(y))\n",
        "    Z = np.hstack((x, y))\n",
        "    box = np.array([])\n",
        "    i = 0\n",
        "    while i < iteration:\n",
        "        idx_x = np.random.choice(Z, size=x.shape[0])\n",
        "        idx_y = np.asarray([ele for ele in Z if ele not in idx_x])\n",
        "        p_mean = np.mean(idx_x) - np.mean(idx_y)\n",
        "        box = np.append(box, p_mean)\n",
        "        i+=1\n",
        "    permu_mean = np.mean(box)\n",
        "    p_value = (box[box > orig_mean].shape[0] + 1) / (iteration + 1) # correction\n",
        "    print(f\"The P-value of the Permutation Test is: {p_value}\")\n",
        "    \n",
        "    # visualization\n",
        "    if visualization == True:\n",
        "        plt.figure(figsize=(9,8))\n",
        "        sns.histplot(data=box, bins='auto')\n",
        "        plt.axvline(x=np.round(permu_mean,3), label='Permutation Mean at {}'.format(np.round(permu_mean,3)),c='g')\n",
        "        plt.axvline(x=orig_mean, label='Original Mean at {}'.format(orig_mean), c='r', linestyle = 'dashed')\n",
        "        plt.legend()\n",
        "        plt.show()\n",
        "    return p_value"
      ],
      "execution_count": 2,
      "outputs": []
    },
    {
      "cell_type": "markdown",
      "metadata": {
        "id": "CU6p2fNy450l"
      },
      "source": [
        "A simple test:"
      ]
    },
    {
      "cell_type": "code",
      "metadata": {
        "colab": {
          "base_uri": "https://localhost:8080/",
          "height": 517
        },
        "id": "cdQ95I2h49WD",
        "outputId": "c67d9ccc-88e0-47f9-865d-1ebeab63c091"
      },
      "source": [
        "x = np.random.random_sample((20,))\n",
        "y = np.random.random_sample((12,))\n",
        "PermutationTest(x, y, 1000, True)"
      ],
      "execution_count": 3,
      "outputs": [
        {
          "output_type": "stream",
          "text": [
            "The P-value of the Permutation Test is: 0.4245754245754246\n"
          ],
          "name": "stdout"
        },
        {
          "output_type": "display_data",
          "data": {
            "image/png": "[encoded data removed]",
            "text/plain": [
              "<Figure size 648x576 with 1 Axes>"
            ]
          },
          "metadata": {
            "tags": [],
            "needs_background": "light"
          }
        },
        {
          "output_type": "execute_result",
          "data": {
            "text/plain": [
              "0.4245754245754246"
            ]
          },
          "metadata": {
            "tags": []
          },
          "execution_count": 3
        }
      ]
    }
  ]
}